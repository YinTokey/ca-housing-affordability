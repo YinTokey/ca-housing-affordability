{
 "cells": [
  {
   "cell_type": "code",
   "execution_count": null,
   "id": "cd4f6fbd-77fa-4ad9-9b4a-c656de9dca62",
   "metadata": {
    "vscode": {
     "languageId": "python"
    }
   },
   "outputs": [],
   "source": [
    "import pandas as pd\n",
    "\n",
    "df = pd.read_excel('../ca-housing-data/rural-rental-market-survey-data-average-rent-province-2020-en.xlsx', engine='openpyxl', skiprows=4, nrows=31)\n",
    "\n",
    "\n",
    "df.columns = [\"Dwelling Type\", \"Province\", \"Bachelor\", \"Bachelor level\", \"1 Bedroom\", \"1 Bedroom level\", \"2 Bedroom\", \"2 Bedroom level\", \"3 Bedroom\", \"3 Bedroom level\", \"Total\", \"Total level\"]\n",
    "\n",
    "\n",
    "for col in [\"Bachelor\", \"1 Bedroom\", \"2 Bedroom\", \"3 Bedroom\", \"Total\"]:\n",
    "\n",
    "df[col] = pd.to_numeric(df[col], errors='coerce')\n",
    "\n",
    "  \n",
    "\n",
    "summary_stats = df[[\"Bachelor\", \"1 Bedroom\", \"2 Bedroom\", \"3 Bedroom\", \"Total\"]].describe()\n",
    "\n",
    "print(summary_stats)"
   ]
  }
 ],
 "metadata": {
  "kernelspec": {
   "display_name": "",
   "name": ""
  },
  "language_info": {
   "name": ""
  }
 },
 "nbformat": 4,
 "nbformat_minor": 5
}
